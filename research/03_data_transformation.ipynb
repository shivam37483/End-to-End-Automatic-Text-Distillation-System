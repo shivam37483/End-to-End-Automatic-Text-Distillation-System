{
 "cells": [
  {
   "cell_type": "markdown",
   "metadata": {},
   "source": [
    "Changing cwd to Root Directory"
   ]
  },
  {
   "cell_type": "code",
   "execution_count": 1,
   "metadata": {},
   "outputs": [
    {
     "data": {
      "text/plain": [
       "'e:\\\\code\\\\project\\\\Text-Summarizer'"
      ]
     },
     "execution_count": 1,
     "metadata": {},
     "output_type": "execute_result"
    }
   ],
   "source": [
    "import os\n",
    "os.chdir('../')\n",
    "%pwd"
   ]
  },
  {
   "cell_type": "markdown",
   "metadata": {},
   "source": [
    "Creating Entity"
   ]
  },
  {
   "cell_type": "code",
   "execution_count": 2,
   "metadata": {},
   "outputs": [],
   "source": [
    "from dataclasses import dataclass\n",
    "from pathlib import Path\n",
    "\n",
    "@dataclass(frozen=True)              #Its a configuraton class for data transformation which will be used by other classes\n",
    "class DataTransformationConfig:\n",
    "    root_dir: Path\n",
    "    data_path: Path\n",
    "    tokenizer_name: Path"
   ]
  },
  {
   "cell_type": "markdown",
   "metadata": {},
   "source": [
    "Creating Configuration Manager"
   ]
  },
  {
   "cell_type": "code",
   "execution_count": 3,
   "metadata": {},
   "outputs": [],
   "source": [
    "from textSummarizer.utils import read_yaml,create_directories \n",
    "from textSummarizer import constants\n",
    "\n",
    "class ConfigurationManager:      #class to read the config file and params file\n",
    "    def __init__(\n",
    "            self,\n",
    "            config_file_path = constants.CONFIG_FILE_PATH,       #constants is a file which contains all the paths \n",
    "            params_file_path = constants.PARAMS_FILE_PATH\n",
    "            ):\n",
    "         \n",
    "        self.config = read_yaml(config_file_path)      #read_yaml is a function which reads the yaml file and returns a dictionary\n",
    "        self.params = read_yaml(params_file_path)\n",
    "\n",
    "        #config is a ConfigBox(shown in trials.ipynb) object which is a dictionary with dot notation access with help of read_yaml function\n",
    "        create_directories([self.config.artifacts_root])              #create_directories is a function which creates directories if they don't exist; artifacts_root is the path where all the artifacts will be stored present in the config.yaml file\n",
    "\n",
    "\n",
    "    def get_data_transformation_config(self) -> DataTransformationConfig:\n",
    "        config = self.config.data_transformation\n",
    "\n",
    "        create_directories([config.root_dir])      #root_path is the path where all the data will be stored present in the config.yaml file\n",
    "\n",
    "        return DataTransformationConfig(\n",
    "            root_dir=config.root_dir,\n",
    "            data_path=config.data_path,\n",
    "            tokenizer_name=config.tokenizer_name)\n",
    "        "
   ]
  },
  {
   "cell_type": "markdown",
   "metadata": {},
   "source": [
    "Creating Components"
   ]
  },
  {
   "cell_type": "code",
   "execution_count": 4,
   "metadata": {},
   "outputs": [
    {
     "name": "stderr",
     "output_type": "stream",
     "text": [
      "d:\\anaconda\\envs\\textS\\lib\\site-packages\\tqdm\\auto.py:21: TqdmWarning: IProgress not found. Please update jupyter and ipywidgets. See https://ipywidgets.readthedocs.io/en/stable/user_install.html\n",
      "  from .autonotebook import tqdm as notebook_tqdm\n"
     ]
    }
   ],
   "source": [
    "import os\n",
    "from textSummarizer.logging import logger\n",
    "from transformers import AutoTokenizer\n",
    "from datasets import load_dataset,load_from_disk\n",
    "\n",
    "class DataTransformation:       #class to transform the data\n",
    "    def __init__(self, config: DataTransformationConfig):\n",
    "        self.config = config\n",
    "        self.tokenizer = AutoTokenizer.from_pretrained(self.config.tokenizer_name)      #AutoTokenizer is a class from transformers library which is used to tokenize the data\n",
    "\n",
    "    def convert_examples_to_features(self,example_batch):\n",
    "        input_encodings = self.tokenizer(example_batch['dialogue'] , max_length = 1024, truncation = True )\n",
    "        \n",
    "        with self.tokenizer.as_target_tokenizer():\n",
    "            target_encodings = self.tokenizer(example_batch['summary'], max_length = 128, truncation = True )\n",
    "            \n",
    "        return {\n",
    "            'input_ids' : input_encodings['input_ids'],\n",
    "            'attention_mask': input_encodings['attention_mask'],\n",
    "            'labels': target_encodings['input_ids']\n",
    "        }\n",
    "    \n",
    "    def convert(self):           #start data transformation\n",
    "        logger.info(\"Starting data transformation\")\n",
    "\n",
    "        logger.info(\"Loading dataset\")\n",
    "        dataset_samsum = load_from_disk(self.config.data_path)       #load_from_disk is a function from datasets library which loads the dataset from the path provided\n",
    "        \n",
    "        logger.info(\"Converting dataset to features\")\n",
    "        dataset_samsum_pt = dataset_samsum.map(self.convert_examples_to_features,batched=True)      #map is a function from datasets library which applies the function to the dataset\n",
    "\n",
    "        logger.info(\"Saving dataset\")        \n",
    "        dataset_samsum_pt.save_to_disk(os.path.join(self.config.root_dir,'samsum_dataset'))        #save_to_disk is a function from datasets library which saves the dataset to the path provided\n",
    "        \n",
    "        logger.info(\"Data transformation completed\")\n"
   ]
  },
  {
   "cell_type": "markdown",
   "metadata": {},
   "source": [
    "Creating Pipeline"
   ]
  },
  {
   "cell_type": "code",
   "execution_count": 5,
   "metadata": {},
   "outputs": [
    {
     "name": "stderr",
     "output_type": "stream",
     "text": [
      "Downloading (…)okenizer_config.json: 100%|██████████| 88.0/88.0 [00:00<?, ?B/s]\n",
      "d:\\anaconda\\envs\\textS\\lib\\site-packages\\huggingface_hub\\file_download.py:137: UserWarning: `huggingface_hub` cache-system uses symlinks by default to efficiently store duplicated files but your machine does not support them in C:\\Users\\HeliosXx\\.cache\\huggingface\\hub. Caching files will still work but in a degraded version that might require more space on your disk. This warning can be disabled by setting the `HF_HUB_DISABLE_SYMLINKS_WARNING` environment variable. For more details, see https://huggingface.co/docs/huggingface_hub/how-to-cache#limitations.\n",
      "To support symlinks on Windows, you either need to activate Developer Mode or to run Python as an administrator. In order to see activate developer mode, see this article: https://docs.microsoft.com/en-us/windows/apps/get-started/enable-your-device-for-development\n",
      "  warnings.warn(message)\n",
      "Downloading (…)lve/main/config.json: 100%|██████████| 1.12k/1.12k [00:00<00:00, 1.12MB/s]\n",
      "Downloading (…)ve/main/spiece.model: 100%|██████████| 1.91M/1.91M [00:00<00:00, 2.00MB/s]\n",
      "Downloading (…)cial_tokens_map.json: 100%|██████████| 65.0/65.0 [00:00<00:00, 65.0kB/s]\n",
      "d:\\anaconda\\envs\\textS\\lib\\site-packages\\dill\\_dill.py:412: PicklingWarning: Cannot locate reference to <class '__main__.DataTransformation'>.\n",
      "  StockPickler.save(self, obj, save_persistent_id)\n",
      "d:\\anaconda\\envs\\textS\\lib\\site-packages\\dill\\_dill.py:412: PicklingWarning: Cannot pickle <class '__main__.DataTransformation'>: __main__.DataTransformation has recursive self-references that trigger a RecursionError.\n",
      "  StockPickler.save(self, obj, save_persistent_id)\n",
      "Map:   0%|          | 0/14732 [00:00<?, ? examples/s]d:\\anaconda\\envs\\textS\\lib\\site-packages\\transformers\\tokenization_utils_base.py:3848: UserWarning: `as_target_tokenizer` is deprecated and will be removed in v5 of Transformers. You can tokenize your labels by using the argument `text_target` of the regular `__call__` method (either in the same call as your input texts if you use the same keyword arguments, or in a separate call.\n",
      "  warnings.warn(\n",
      "Map: 100%|██████████| 14732/14732 [00:07<00:00, 2053.89 examples/s]\n",
      "Map: 100%|██████████| 819/819 [00:00<00:00, 2023.75 examples/s]\n",
      "Map: 100%|██████████| 818/818 [00:00<00:00, 2115.70 examples/s]\n",
      "Saving the dataset (1/1 shards): 100%|██████████| 14732/14732 [00:00<00:00, 282784.93 examples/s]\n",
      "Saving the dataset (1/1 shards): 100%|██████████| 819/819 [00:00<00:00, 62995.32 examples/s]\n",
      "Saving the dataset (1/1 shards): 100%|██████████| 818/818 [00:00<00:00, 48113.71 examples/s]\n"
     ]
    }
   ],
   "source": [
    "try:\n",
    "    config = ConfigurationManager().get_data_transformation_config()\n",
    "    config = DataTransformation(config=config)\n",
    "    config.convert()\n",
    "\n",
    "except Exception as e:\n",
    "    logger.info(f\"error in data transformation: {e}\")\n",
    "    raise e"
   ]
  }
 ],
 "metadata": {
  "kernelspec": {
   "display_name": "textS",
   "language": "python",
   "name": "python3"
  },
  "language_info": {
   "codemirror_mode": {
    "name": "ipython",
    "version": 3
   },
   "file_extension": ".py",
   "mimetype": "text/x-python",
   "name": "python",
   "nbconvert_exporter": "python",
   "pygments_lexer": "ipython3",
   "version": "3.10.13"
  }
 },
 "nbformat": 4,
 "nbformat_minor": 2
}
