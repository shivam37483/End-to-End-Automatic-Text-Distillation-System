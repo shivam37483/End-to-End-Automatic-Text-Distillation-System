{
 "cells": [
  {
   "cell_type": "markdown",
   "metadata": {},
   "source": [
    "Changing Current Directory to Root D."
   ]
  },
  {
   "cell_type": "code",
   "execution_count": 1,
   "metadata": {},
   "outputs": [],
   "source": [
    "import os"
   ]
  },
  {
   "cell_type": "code",
   "execution_count": 2,
   "metadata": {},
   "outputs": [
    {
     "data": {
      "text/plain": [
       "'e:\\\\code\\\\project\\\\Text-Summarizer\\\\research'"
      ]
     },
     "execution_count": 2,
     "metadata": {},
     "output_type": "execute_result"
    }
   ],
   "source": [
    "%pwd"
   ]
  },
  {
   "cell_type": "code",
   "execution_count": 3,
   "metadata": {},
   "outputs": [
    {
     "data": {
      "text/plain": [
       "'e:\\\\code\\\\project\\\\Text-Summarizer'"
      ]
     },
     "execution_count": 3,
     "metadata": {},
     "output_type": "execute_result"
    }
   ],
   "source": [
    "os.chdir('../')\n",
    "%pwd"
   ]
  },
  {
   "cell_type": "markdown",
   "metadata": {},
   "source": [
    "3.Updating Entity"
   ]
  },
  {
   "cell_type": "code",
   "execution_count": 4,
   "metadata": {},
   "outputs": [],
   "source": [
    "from dataclasses import dataclass\n",
    "from pathlib import Path\n",
    "\n",
    "@dataclass(frozen=True)                     #frozen = True makes the class immutable (read-only)\n",
    "class DataIngestionConfig:             #defininig return type of the function which will be made later \n",
    "    root_dir: Path\n",
    "    source_url: str\n",
    "    local_data_file: Path\n",
    "    unzip_dir: Path"
   ]
  },
  {
   "cell_type": "markdown",
   "metadata": {},
   "source": [
    "4. Update the configuration manager in src config"
   ]
  },
  {
   "cell_type": "code",
   "execution_count": 5,
   "metadata": {},
   "outputs": [],
   "source": [
    "from textSummarizer.utils import read_yaml,create_directories \n",
    "from textSummarizer import constants\n",
    "\n",
    "class ConfigurationManager:      #class to read the config file and params file\n",
    "    def __init__(\n",
    "            self,\n",
    "            config_file_path = constants.CONFIG_FILE_PATH,       #constants is a file which contains all the paths \n",
    "            params_file_path = constants.PARAMS_FILE_PATH\n",
    "            ):\n",
    "        \n",
    "        self.config = read_yaml(config_file_path)      #read_yaml is a function which reads the yaml file and returns a dictionary\n",
    "        self.params = read_yaml(params_file_path)\n",
    "\n",
    "        #config is a ConfigBox(shown in trials.ipynb) object which is a dictionary with dot notation access with help of read_yaml function\n",
    "        create_directories([self.config.artifacts_root])              #create_directories is a function which creates directories if they don't exist; artifacts_root is the path where all the artifacts will be stored present in the config.yaml file\n",
    "\n",
    "    def get_data_ingestion_config(self) -> DataIngestionConfig:       #function to return the DataIngestionConfig object\n",
    "        config = self.config.data_ingestion\n",
    "\n",
    "        # data_ingestion_config = DataIngestionConfig(\n",
    "        #     root_dir = config.artifacts_root,\n",
    "        #     source_url = config.source_url,\n",
    "        #     local_data_file = config.local_data_file,\n",
    "        #     unzip_dir = config.unzip_dir\n",
    "        # )\n",
    "\n",
    "        return DataIngestionConfig(\n",
    "            root_dir = config.artifacts_root,\n",
    "            source_url = config.source_url,\n",
    "            local_data_file = config.local_data_file,\n",
    "            unzip_dir = config.unzip_dir\n",
    "        )        \n"
   ]
  },
  {
   "cell_type": "markdown",
   "metadata": {},
   "source": [
    "5. Updating Components"
   ]
  },
  {
   "cell_type": "code",
   "execution_count": 6,
   "metadata": {},
   "outputs": [],
   "source": [
    "import urllib.request as request\n",
    "import zipfile\n",
    "from textSummarizer.logging import logger\n",
    "from textSummarizer.utils import get_size\n",
    "\n",
    "class DataIngestion:\n",
    "    def __init__(self,config: DataIngestionConfig):\n",
    "        self.config = config\n",
    "    \n",
    "    def download_file(self):\n",
    "        if not os.path.exists(self.config.local_data_file):\n",
    "            file_name, headers = request.urlretrieve(\n",
    "                url=self.config.source_url,\n",
    "                filename=self.config.local_data_file\n",
    "            )\n",
    "            logger.info(f\"Downloaded file: {file_name}\")\n",
    "        else:\n",
    "            logger.info(f\"File already exists: {self.config.local_data_file}\")\n",
    "\n",
    "    def unzip_file(self):\n",
    "        '''\n",
    "        Extracts the zip file into data dictionary\n",
    "        Function returns none\n",
    "        '''\n",
    "        unzip_path = self.config.unzip_dir\n",
    "        os.makedirs(unzip_path,exist_ok=True)\n",
    "        \n",
    "        logger.info(f\"Unzipping {self.config.local_data_file} to {unzip_path}\")\n",
    "        with zipfile.ZipFile(self.config.local_data_file,\"r\") as zip_ref:\n",
    "            zip_ref.extractall(unzip_path)"
   ]
  }
 ],
 "metadata": {
  "kernelspec": {
   "display_name": "textS",
   "language": "python",
   "name": "python3"
  },
  "language_info": {
   "codemirror_mode": {
    "name": "ipython",
    "version": 3
   },
   "file_extension": ".py",
   "mimetype": "text/x-python",
   "name": "python",
   "nbconvert_exporter": "python",
   "pygments_lexer": "ipython3",
   "version": "3.10.13"
  }
 },
 "nbformat": 4,
 "nbformat_minor": 2
}
