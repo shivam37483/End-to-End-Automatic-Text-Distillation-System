{
 "cells": [
  {
   "cell_type": "code",
   "execution_count": 1,
   "metadata": {},
   "outputs": [
    {
     "data": {
      "text/plain": [
       "'e:\\\\code\\\\project\\\\Text-Summarizer'"
      ]
     },
     "execution_count": 1,
     "metadata": {},
     "output_type": "execute_result"
    }
   ],
   "source": [
    "import os\n",
    "os.chdir('../')\n",
    "%pwd"
   ]
  },
  {
   "cell_type": "markdown",
   "metadata": {},
   "source": [
    "Creating Entity"
   ]
  },
  {
   "cell_type": "code",
   "execution_count": 2,
   "metadata": {},
   "outputs": [],
   "source": [
    "from dataclasses import dataclass\n",
    "from pathlib import Path\n",
    "\n",
    "@dataclass(frozen=True)\n",
    "class ModelEvaluationConfig:\n",
    "    root_dir:Path\n",
    "    data_path: Path\n",
    "    model_path: Path\n",
    "    tokenizer_path: Path\n",
    "    metric_file_name: Path"
   ]
  },
  {
   "cell_type": "markdown",
   "metadata": {},
   "source": [
    "Configuration Manager"
   ]
  },
  {
   "cell_type": "code",
   "execution_count": 3,
   "metadata": {},
   "outputs": [],
   "source": [
    "from textSummarizer.utils import read_yaml,create_directories \n",
    "from textSummarizer import constants\n",
    "\n",
    "class ConfigurationManager:      #class to read the config file and params file\n",
    "    def __init__(\n",
    "            self,\n",
    "            config_file_path = constants.CONFIG_FILE_PATH,       #constants is a file which contains all the paths \n",
    "            params_file_path = constants.PARAMS_FILE_PATH\n",
    "            ):\n",
    "         \n",
    "        self.config = read_yaml(config_file_path)      #read_yaml is a function which reads the yaml file and returns a dictionary\n",
    "        self.params = read_yaml(params_file_path)\n",
    "\n",
    "        #config is a ConfigBox(shown in trials.ipynb) object which is a dictionary with dot notation access with help of read_yaml function\n",
    "        create_directories([self.config.artifacts_root])              #create_directories is a function which creates directories if they don't exist; artifacts_root is the path where all the artifacts will be stored present in the config.yaml file\n",
    "\n",
    "\n",
    "    def get_model_evaluation_config(self) -> ModelEvaluationConfig:\n",
    "        config = self.config.model_evaluation\n",
    "\n",
    "        create_directories([config.root_dir])\n",
    "\n",
    "        return ModelEvaluationConfig(\n",
    "            root_dir=config.root_dir,\n",
    "            data_path=config.data_path,\n",
    "            model_path=config.model_path,\n",
    "            tokenizer_path=config.tokenizer_path,\n",
    "            metric_file_name=config.metric_file_name\n",
    "        )\n"
   ]
  },
  {
   "cell_type": "markdown",
   "metadata": {},
   "source": [
    "Creating Components"
   ]
  },
  {
   "cell_type": "code",
   "execution_count": 8,
   "metadata": {},
   "outputs": [],
   "source": [
    "from transformers import AutoModelForSeq2SeqLM, AutoTokenizer\n",
    "from datasets import load_metric, load_from_disk, load_dataset\n",
    "import pandas as pd\n",
    "import torch\n",
    "import tqdm as tqdm\n",
    "\n",
    "class ModelEvaluation:\n",
    "    def __init__(self, config: ModelEvaluationConfig):\n",
    "        self.config = config\n",
    "\n",
    "    def generate_batch_sized_chunks(self,list_of_elements, batch_size):\n",
    "        '''\n",
    "        Splitting the dataset into smaller batches such that we can process simultaneously\n",
    "        Yield successive batch-sized chunks from list_of_elements.\n",
    "        '''\n",
    "        for i in range(0, len(list_of_elements), batch_size):       #this finction is used to split the dataset into smaller batches\n",
    "            yield list_of_elements[i:i + batch_size]       #yield is used to return a generator object -> generator object is an iterator which can be iterated only once\n",
    "\n",
    "\n",
    "    def calculate_metric_on_test_ds(self,dataset,metric,model,tokenizer,\n",
    "                                    batch_size=16,\n",
    "                                    device='cuda'if torch.cuda.is_available() else 'cpu',\n",
    "                                    column_text = 'article',\n",
    "                                    column_summary = 'highlights'):\n",
    "        article_batches = list(self.generate_batch_sized_chunks(dataset[column_text],batch_size))\n",
    "        target_batches = list(self.generate_batch_sized_chunks(dataset[column_summary],batch_size))\n",
    "\n",
    "        for article_batch,target_batch in tqdm(\n",
    "            zip(article_batches,target_batches),\n",
    "            total=len(article_batches)):\n",
    "\n",
    "            inputs = tokenizer(article_batch,max_length= 1024,\n",
    "                               truncation=True, padding='max_length',return_tensors='pt')\n",
    "            \n",
    "            summaries = model.generate(input_ids= inputs['input_ids'].to(device),\n",
    "                                       attention_mask = inputs['attention_mask'].to(device),           #attention_mask is a mask that is used to avoid performing attention on padding token indices \n",
    "                                       length_penalty=0.8,     # parameter for length penalty ensures that the model does not generate sequences that are too long. \n",
    "                                       num_beams=8,        #num_beams is the number of beams for beam search \n",
    "                                       max_length=128)     #max_length is the maximum length of the sequence to be generated. An input sequence longer than max_length will be truncated to max_length\n",
    "            \n",
    "            #We decode the genrated texts using the tokenizer, replace the token and add the decoded texts with references to metric\n",
    "\n",
    "            decoded_summaries = [tokenizer.decode(g,skip_special_tokens=True,\n",
    "                                                  clean_up_tokenization_spaces=True)\n",
    "                                  for g in summaries]\n",
    "            \n",
    "            decoded_summaries = [d.replace('', \" \") for d in decoded_summaries]\n",
    "\n",
    "            metric.add_batch(predictions=decoded_summaries,references=target_batch)\n",
    "\n",
    "        #Finally we compute the metric and return the ROUGE scores\n",
    "        score = metric.compute()\n",
    "        return score\n",
    "    \n",
    "    def evaluate(self):\n",
    "        device = 'cuda' if torch.cuda.is_available() else 'cpu'\n",
    "        tokenizer = AutoTokenizer.from_pretrained(self.config.tokenizer_path)\n",
    "        model_pegasus = AutoModelForSeq2SeqLM.from_pretrained(self.config.model_path).to(device)\n",
    "\n",
    "        #Loading data\n",
    "        dataset_samsum_pt = load_from_disk(self.config.data_path)\n",
    "\n",
    "        rouge_names = [\"rouge1\",\"rouge2\",\"rougeL\",\"rougeLsum\"]\n",
    "        rouge_metric = load_metric('rouge')\n",
    "\n",
    "        score = self.calculate_metric_on_test_ds(dataset_samsum_pt['test'][0:10],\n",
    "                                                 rouge_metric,model_pegasus,\n",
    "                                                 tokenizer, batch_size=2,\n",
    "                                                 column_text = 'dialogue', column_summary= 'summary')\n",
    "        \n",
    "        rouge_dict = dict((rn, score[rn].mid.fmeasure) for rn in rouge_names)\n",
    "\n",
    "        df =pd.DataFrame([rouge_dict],index=['pegasus'])\n",
    "        df.to_csv(self.config.metric_file_name, index=False)"
   ]
  },
  {
   "cell_type": "markdown",
   "metadata": {},
   "source": [
    "Creating Pipeline"
   ]
  },
  {
   "cell_type": "code",
   "execution_count": null,
   "metadata": {},
   "outputs": [],
   "source": [
    "try:\n",
    "    config = ConfigurationManager().get_model_evaluation_config()\n",
    "    model_evaluation = ModelEvaluation(config=config)\n",
    "    model_evaluation.evaluate()\n",
    "\n",
    "except Exception as e:\n",
    "    raise e"
   ]
  }
 ],
 "metadata": {
  "kernelspec": {
   "display_name": "textS",
   "language": "python",
   "name": "python3"
  },
  "language_info": {
   "codemirror_mode": {
    "name": "ipython",
    "version": 3
   },
   "file_extension": ".py",
   "mimetype": "text/x-python",
   "name": "python",
   "nbconvert_exporter": "python",
   "pygments_lexer": "ipython3",
   "version": "3.10.13"
  }
 },
 "nbformat": 4,
 "nbformat_minor": 2
}
